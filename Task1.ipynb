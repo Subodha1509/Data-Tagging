{
 "cells": [
  {
   "cell_type": "code",
   "execution_count": 4,
   "id": "a6d16797-8426-48d6-8696-eb05c87e584b",
   "metadata": {},
   "outputs": [],
   "source": [
    "import pandas as pd\n",
    "import re\n",
    "\n",
    "# Load both sheets\n",
    "df = pd.read_excel(\"DA - Task 1..xlsx\", sheet_name=\"Task\")\n",
    "taxonomy = pd.read_excel(\"DA - Task 1..xlsx\", sheet_name=\"Taxonomy\")\n",
    "\n",
    "# Clean up column names to remove spaces\n",
    "taxonomy.columns = taxonomy.columns.str.strip()\n",
    "\n",
    "# Clean your free-text fields\n",
    "def clean_text(text):\n",
    "    if pd.isnull(text): return \"\"\n",
    "    return re.sub(r'[^\\w\\s]', '', text.lower().strip())\n",
    "\n",
    "df[\"Complaint_Clean\"] = df[\"Complaint\"].apply(clean_text)\n",
    "df[\"Cause_Clean\"] = df[\"Cause\"].apply(clean_text)\n",
    "df[\"Correction_Clean\"] = df[\"Correction\"].apply(clean_text)\n",
    "\n",
    "# Match taxonomy\n",
    "def match_taxonomy(text, options):\n",
    "    for term in options:\n",
    "        if str(term).lower() in text:\n",
    "            return term\n",
    "    return \"\"\n",
    "\n",
    "# Extract taxonomy lists\n",
    "symptom_cond = taxonomy[\"Symptom Condition\"].dropna().tolist()\n",
    "symptom_comp = taxonomy[\"Symptom Component\"].dropna().tolist()\n",
    "root_causes = taxonomy[\"Root Cause\"].dropna().tolist()\n",
    "fix_cond = taxonomy[\"Fix Condition\"].dropna().tolist()\n",
    "fix_comp = taxonomy[\"Fix Component\"].dropna().tolist()\n",
    "\n",
    "# Apply matching\n",
    "df[\"Symptom Condition\"] = df[\"Complaint_Clean\"].apply(lambda x: match_taxonomy(x, symptom_cond))\n",
    "df[\"Symptom Component\"] = df[\"Complaint_Clean\"].apply(lambda x: match_taxonomy(x, symptom_comp))\n",
    "df[\"Root Cause\"] = df[\"Cause_Clean\"].apply(lambda x: match_taxonomy(x, root_causes))\n",
    "df[\"Fix Condition\"] = df[\"Correction_Clean\"].apply(lambda x: match_taxonomy(x, fix_cond))\n",
    "df[\"Fix Component\"] = df[\"Correction_Clean\"].apply(lambda x: match_taxonomy(x, fix_comp))\n",
    "\n",
    "# Save output\n",
    "df.to_excel(\"Task1_Tagged_Output.xlsx\", index=False)\n"
   ]
  },
  {
   "cell_type": "code",
   "execution_count": null,
   "id": "51171d1a-9e8c-45f7-b96d-09a51a8b8d2b",
   "metadata": {},
   "outputs": [],
   "source": []
  }
 ],
 "metadata": {
  "kernelspec": {
   "display_name": "Python 3 (ipykernel)",
   "language": "python",
   "name": "python3"
  },
  "language_info": {
   "codemirror_mode": {
    "name": "ipython",
    "version": 3
   },
   "file_extension": ".py",
   "mimetype": "text/x-python",
   "name": "python",
   "nbconvert_exporter": "python",
   "pygments_lexer": "ipython3",
   "version": "3.12.7"
  }
 },
 "nbformat": 4,
 "nbformat_minor": 5
}
